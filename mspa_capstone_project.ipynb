{
 "cells": [
  {
   "cell_type": "code",
   "execution_count": 16,
   "metadata": {
    "collapsed": false
   },
   "outputs": [],
   "source": [
    "import pandas as pd\n",
    "import numpy as np\n",
    "import pylab as pl\n",
    "import matplotlib as mpl\n",
    "import matplotlib.pyplot as plt"
   ]
  },
  {
   "cell_type": "code",
   "execution_count": 3,
   "metadata": {
    "collapsed": true
   },
   "outputs": [],
   "source": [
    "# so plots can be viewed inline\n",
    "%matplotlib inline"
   ]
  },
  {
   "cell_type": "code",
   "execution_count": 4,
   "metadata": {
    "collapsed": true
   },
   "outputs": [],
   "source": [
    "## Preprocessing CSV ##"
   ]
  },
  {
   "cell_type": "code",
   "execution_count": 112,
   "metadata": {
    "collapsed": false
   },
   "outputs": [],
   "source": [
    "# df = pd.read_csv('/Users/dominicdebiaso/Documents/Capstone/true_products.csv')"
   ]
  },
  {
   "cell_type": "code",
   "execution_count": 113,
   "metadata": {
    "collapsed": false,
    "scrolled": true
   },
   "outputs": [],
   "source": [
    "# # rename blank column to soldcount\n",
    "# # df.rename(columns={'Unnamed: 18':'soldcount'}, inplace=True)\n",
    "# # make column headers lowercase\n",
    "# df.columns = map(str.lower, df.columns)\n",
    "# # drop D supplier desc(repetitive of C), E address desc(null/blank values), G address 2(it's the same as E)\\\n",
    "# # L (all USA values) country\n",
    "# df.drop(['supplierdescription', 'addressdescription', 'address1', 'address2', 'country'], inplace=True, axis=1)\n",
    "# # alter features to strings\n",
    "# df[['suppliertype', 'supplierid', 'postalcode', 'pditradingpartner', 'productid']] = df[['suppliertype', 'supplierid', 'postalcode', 'pditradingpartner', 'productid']].astype(str)\n",
    "# # convert object to datetime\n",
    "# df['datetimecreated'] = pd.to_datetime(pd.Series(df.datetimecreated))\n",
    "# # df = df.drop(df.tail(2000).index)\n",
    "# # convert pditrading to boolean\n",
    "# # make suppliertype into dummy variables"
   ]
  },
  {
   "cell_type": "code",
   "execution_count": 114,
   "metadata": {
    "collapsed": false
   },
   "outputs": [],
   "source": [
    "## remove unused variables for model building\n",
    "# df.drop(['supplierid', 'datetimecreated', 'suppliername', 'city', 'countyname', 'state', 'postalcode', 'dunsnumber', 'productid', 'identifiervalue'], inplace=True, axis=1)"
   ]
  },
  {
   "cell_type": "code",
   "execution_count": 104,
   "metadata": {
    "collapsed": false
   },
   "outputs": [],
   "source": [
    "# df.head()\n",
    "# df.tail()"
   ]
  },
  {
   "cell_type": "code",
   "execution_count": 105,
   "metadata": {
    "collapsed": false,
    "scrolled": true
   },
   "outputs": [],
   "source": [
    "# df.describe()\n",
    "# df.suppliertype.describe()"
   ]
  },
  {
   "cell_type": "code",
   "execution_count": 106,
   "metadata": {
    "collapsed": false
   },
   "outputs": [],
   "source": [
    "# data types\n",
    "# df.dtypes"
   ]
  },
  {
   "cell_type": "code",
   "execution_count": null,
   "metadata": {
    "collapsed": true
   },
   "outputs": [],
   "source": []
  },
  {
   "cell_type": "code",
   "execution_count": null,
   "metadata": {
    "collapsed": true
   },
   "outputs": [],
   "source": [
    "## EDA ##"
   ]
  },
  {
   "cell_type": "code",
   "execution_count": 346,
   "metadata": {
    "collapsed": false,
    "scrolled": true
   },
   "outputs": [],
   "source": [
    "# df.suppliertype.hist()\n",
    "## no. of state occurences\n",
    "# df.state.value_counts()\n",
    "## array of unique elements\n",
    "# df.state.unique()\n",
    "## count of unique items\n",
    "# len(df.supplierid.unique())"
   ]
  },
  {
   "cell_type": "code",
   "execution_count": 17,
   "metadata": {
    "collapsed": false
   },
   "outputs": [],
   "source": [
    "# len(df.groupby('state').size())\n",
    "# df.groupby('state').sum()\n",
    "# df.groupby('state').sum().plot(kind='bar')\n",
    "# df.groupby('state').size()\n",
    "# df.groupby('state').size().plot(kind='bar')"
   ]
  },
  {
   "cell_type": "code",
   "execution_count": 376,
   "metadata": {
    "collapsed": false
   },
   "outputs": [],
   "source": [
    "# pd.crosstab(df['suppliertype'], df['state'])\n",
    "# df.groupby('datetimecreated').plot()"
   ]
  },
  {
   "cell_type": "code",
   "execution_count": 18,
   "metadata": {
    "collapsed": false
   },
   "outputs": [],
   "source": [
    "# cross tab is similar to pivot table\n",
    "# pd.crosstab(df['suppliertype'], df['pditradingpartner']).plot(kind='bar')"
   ]
  },
  {
   "cell_type": "code",
   "execution_count": 350,
   "metadata": {
    "collapsed": false
   },
   "outputs": [],
   "source": [
    "# df.soldcount.sum()\n",
    "\n",
    "# sum_total = 0\n",
    "# for i in df.soldcount:\n",
    "#     sum_total = sum_total + i\n",
    "# print sum_total"
   ]
  },
  {
   "cell_type": "code",
   "execution_count": 351,
   "metadata": {
    "collapsed": false
   },
   "outputs": [],
   "source": [
    "# for ste in df.state.unique():\n",
    "#     print ste"
   ]
  },
  {
   "cell_type": "code",
   "execution_count": null,
   "metadata": {
    "collapsed": true
   },
   "outputs": [],
   "source": []
  },
  {
   "cell_type": "code",
   "execution_count": 778,
   "metadata": {
    "collapsed": false
   },
   "outputs": [
    {
     "data": {
      "text/html": [
       "<div style=\"max-height:1000px;max-width:1500px;overflow:auto;\">\n",
       "<table border=\"1\" class=\"dataframe\">\n",
       "  <thead>\n",
       "    <tr style=\"text-align: right;\">\n",
       "      <th></th>\n",
       "      <th>suppliertype_1</th>\n",
       "      <th>suppliertype_2</th>\n",
       "      <th>suppliertype_3</th>\n",
       "      <th>suppliertype_4</th>\n",
       "      <th>pditradingpartner</th>\n",
       "      <th>alcoholwordcount</th>\n",
       "      <th>beerwordcount</th>\n",
       "      <th>winewordcount</th>\n",
       "      <th>qty</th>\n",
       "      <th>trueproducttype</th>\n",
       "      <th>is_train</th>\n",
       "    </tr>\n",
       "  </thead>\n",
       "  <tbody>\n",
       "    <tr>\n",
       "      <th>0</th>\n",
       "      <td>1</td>\n",
       "      <td>0</td>\n",
       "      <td>0</td>\n",
       "      <td>0</td>\n",
       "      <td>0</td>\n",
       "      <td>0</td>\n",
       "      <td>0</td>\n",
       "      <td>3</td>\n",
       "      <td>215</td>\n",
       "      <td>1</td>\n",
       "      <td>False</td>\n",
       "    </tr>\n",
       "    <tr>\n",
       "      <th>1</th>\n",
       "      <td>1</td>\n",
       "      <td>0</td>\n",
       "      <td>0</td>\n",
       "      <td>0</td>\n",
       "      <td>0</td>\n",
       "      <td>0</td>\n",
       "      <td>1</td>\n",
       "      <td>8</td>\n",
       "      <td>239</td>\n",
       "      <td>1</td>\n",
       "      <td>True</td>\n",
       "    </tr>\n",
       "    <tr>\n",
       "      <th>2</th>\n",
       "      <td>1</td>\n",
       "      <td>0</td>\n",
       "      <td>0</td>\n",
       "      <td>0</td>\n",
       "      <td>0</td>\n",
       "      <td>0</td>\n",
       "      <td>0</td>\n",
       "      <td>0</td>\n",
       "      <td>1</td>\n",
       "      <td>2</td>\n",
       "      <td>True</td>\n",
       "    </tr>\n",
       "    <tr>\n",
       "      <th>3</th>\n",
       "      <td>1</td>\n",
       "      <td>0</td>\n",
       "      <td>0</td>\n",
       "      <td>0</td>\n",
       "      <td>0</td>\n",
       "      <td>0</td>\n",
       "      <td>1</td>\n",
       "      <td>0</td>\n",
       "      <td>39</td>\n",
       "      <td>1</td>\n",
       "      <td>True</td>\n",
       "    </tr>\n",
       "    <tr>\n",
       "      <th>4</th>\n",
       "      <td>1</td>\n",
       "      <td>0</td>\n",
       "      <td>0</td>\n",
       "      <td>0</td>\n",
       "      <td>0</td>\n",
       "      <td>0</td>\n",
       "      <td>0</td>\n",
       "      <td>2</td>\n",
       "      <td>22</td>\n",
       "      <td>1</td>\n",
       "      <td>False</td>\n",
       "    </tr>\n",
       "  </tbody>\n",
       "</table>\n",
       "</div>"
      ],
      "text/plain": [
       "   suppliertype_1  suppliertype_2  suppliertype_3  suppliertype_4  \\\n",
       "0               1               0               0               0   \n",
       "1               1               0               0               0   \n",
       "2               1               0               0               0   \n",
       "3               1               0               0               0   \n",
       "4               1               0               0               0   \n",
       "\n",
       "   pditradingpartner  alcoholwordcount  beerwordcount  winewordcount  qty  \\\n",
       "0                  0                 0              0              3  215   \n",
       "1                  0                 0              1              8  239   \n",
       "2                  0                 0              0              0    1   \n",
       "3                  0                 0              1              0   39   \n",
       "4                  0                 0              0              2   22   \n",
       "\n",
       "   trueproducttype is_train  \n",
       "0                1    False  \n",
       "1                1     True  \n",
       "2                2     True  \n",
       "3                1     True  \n",
       "4                1    False  "
      ]
     },
     "execution_count": 778,
     "metadata": {},
     "output_type": "execute_result"
    }
   ],
   "source": [
    "## Data Munging for Model Building ##\n",
    "df.head()"
   ]
  },
  {
   "cell_type": "code",
   "execution_count": 692,
   "metadata": {
    "collapsed": true
   },
   "outputs": [],
   "source": [
    "df = pd.read_csv('/Users/dominicdebiaso/Documents/Capstone/true_products.csv')"
   ]
  },
  {
   "cell_type": "code",
   "execution_count": 693,
   "metadata": {
    "collapsed": true
   },
   "outputs": [],
   "source": [
    "# rename column\n",
    "df.rename(columns={'Alcohol count':'alcoholwordcount'}, inplace=True)\n",
    "# make column headers lowercase\n",
    "df.columns = map(str.lower, df.columns)\n",
    "# drop unnecessary columns\n",
    "df.drop(['supplierdescription', 'addressdescription', 'address1', 'address2', 'country', 'supplierid', 'datetimecreated', 'suppliername', 'city', 'countyname', 'state', 'postalcode', 'dunsnumber', 'productname','productid', 'identifiervalue'], inplace=True, axis=1)"
   ]
  },
  {
   "cell_type": "code",
   "execution_count": 694,
   "metadata": {
    "collapsed": true
   },
   "outputs": [],
   "source": [
    "# make all nominal values lowercase\n",
    "df['trueproducttype'] = df['trueproducttype'].str.lower()"
   ]
  },
  {
   "cell_type": "code",
   "execution_count": 695,
   "metadata": {
    "collapsed": true
   },
   "outputs": [],
   "source": [
    "# beer\n",
    "df.loc[df.trueproducttype == 'beer', 'trueproducttype'] = 1\n",
    "# df.loc[df['trueproducttype'] == 'Beer', 'trueproducttype'] = 1"
   ]
  },
  {
   "cell_type": "code",
   "execution_count": 696,
   "metadata": {
    "collapsed": true
   },
   "outputs": [],
   "source": [
    "# spirit\n",
    "df.loc[df.trueproducttype == 'spirit', 'trueproducttype'] = 2"
   ]
  },
  {
   "cell_type": "code",
   "execution_count": 697,
   "metadata": {
    "collapsed": true
   },
   "outputs": [],
   "source": [
    "# wine\n",
    "df.loc[df.trueproducttype == 'wine', 'trueproducttype'] = 3"
   ]
  },
  {
   "cell_type": "code",
   "execution_count": 698,
   "metadata": {
    "collapsed": true
   },
   "outputs": [],
   "source": [
    "# non-alcs\n",
    "df.loc[df.trueproducttype == 'non-alc', 'trueproducttype'] = 4"
   ]
  },
  {
   "cell_type": "code",
   "execution_count": 699,
   "metadata": {
    "collapsed": true
   },
   "outputs": [],
   "source": [
    "# missing/unknown\n",
    "df.loc[df.trueproducttype == 'unknown', 'trueproducttype'] = 0"
   ]
  },
  {
   "cell_type": "code",
   "execution_count": 700,
   "metadata": {
    "collapsed": false
   },
   "outputs": [
    {
     "data": {
      "text/plain": [
       "suppliertype         186\n",
       "pditradingpartner      0\n",
       "trueproducttype        0\n",
       "qty                    0\n",
       "beerwordcount          1\n",
       "winewordcount          1\n",
       "alcoholwordcount       1\n",
       "dtype: int64"
      ]
     },
     "execution_count": 700,
     "metadata": {},
     "output_type": "execute_result"
    }
   ],
   "source": [
    "# how many NA's are present\n",
    "df.isnull().sum()"
   ]
  },
  {
   "cell_type": "code",
   "execution_count": 701,
   "metadata": {
    "collapsed": false
   },
   "outputs": [],
   "source": [
    "# fill the NA's with zeros\n",
    "df.fillna(0, inplace=True)\n",
    "# df['suppliertype'].fillna(0, inplace=True)"
   ]
  },
  {
   "cell_type": "code",
   "execution_count": 702,
   "metadata": {
    "collapsed": true
   },
   "outputs": [],
   "source": [
    "# change features to ints for scikit arrays\n",
    "df[['suppliertype', 'trueproducttype', 'beerwordcount', 'winewordcount', 'alcoholwordcount']] = df[['suppliertype', 'trueproducttype', 'beerwordcount', 'winewordcount', 'alcoholwordcount']].astype(int)"
   ]
  },
  {
   "cell_type": "code",
   "execution_count": 703,
   "metadata": {
    "collapsed": true
   },
   "outputs": [],
   "source": [
    "# resorting columns\n",
    "df = df.reindex(columns=['suppliertype', 'pditradingpartner', 'alcoholwordcount', 'beerwordcount', 'winewordcount', 'qty', 'trueproducttype'])"
   ]
  },
  {
   "cell_type": "code",
   "execution_count": null,
   "metadata": {
    "collapsed": true
   },
   "outputs": [],
   "source": []
  },
  {
   "cell_type": "code",
   "execution_count": 704,
   "metadata": {
    "collapsed": true
   },
   "outputs": [],
   "source": [
    "## Dummy Alterations ##"
   ]
  },
  {
   "cell_type": "code",
   "execution_count": 705,
   "metadata": {
    "collapsed": true
   },
   "outputs": [],
   "source": [
    "# creating dummy variables out of 'suppliertype'\n",
    "dummy_suppliertype = pd.get_dummies(df['suppliertype'], prefix='suppliertype')\n",
    "# print dummy_suppliertype.head()"
   ]
  },
  {
   "cell_type": "code",
   "execution_count": 706,
   "metadata": {
    "collapsed": true
   },
   "outputs": [],
   "source": [
    "# adding the dummy variables to df\n",
    "df = df.join(dummy_suppliertype.ix[:, 1:5])"
   ]
  },
  {
   "cell_type": "code",
   "execution_count": 707,
   "metadata": {
    "collapsed": true
   },
   "outputs": [],
   "source": [
    "# dummy drop\n",
    "df.drop(['suppliertype'], inplace=True, axis=1)"
   ]
  },
  {
   "cell_type": "code",
   "execution_count": 708,
   "metadata": {
    "collapsed": true
   },
   "outputs": [],
   "source": [
    "# dummy resorting columns\n",
    "df = df.reindex(columns=['suppliertype_1', 'suppliertype_2', 'suppliertype_3', 'suppliertype_4','pditradingpartner', 'alcoholwordcount', 'beerwordcount', 'winewordcount', 'qty', 'trueproducttype'])"
   ]
  },
  {
   "cell_type": "code",
   "execution_count": null,
   "metadata": {
    "collapsed": true
   },
   "outputs": [],
   "source": []
  },
  {
   "cell_type": "code",
   "execution_count": 709,
   "metadata": {
    "collapsed": false
   },
   "outputs": [],
   "source": [
    "## Preprocessing Data for Scikit ##"
   ]
  },
  {
   "cell_type": "code",
   "execution_count": 710,
   "metadata": {
    "collapsed": true
   },
   "outputs": [],
   "source": [
    "## Method 1"
   ]
  },
  {
   "cell_type": "code",
   "execution_count": 711,
   "metadata": {
    "collapsed": true
   },
   "outputs": [],
   "source": [
    "# convert df to numpy array\n",
    "ndf = df.as_matrix()\n",
    "# np arrays are of type ndarray\n",
    "# type(ndf)\n",
    "# ndf[1]"
   ]
  },
  {
   "cell_type": "code",
   "execution_count": 712,
   "metadata": {
    "collapsed": true
   },
   "outputs": [],
   "source": [
    "## Method 2"
   ]
  },
  {
   "cell_type": "code",
   "execution_count": 713,
   "metadata": {
    "collapsed": true
   },
   "outputs": [],
   "source": [
    "# use dataframe to create target\n",
    "# target = df.columns[-1:]; doesn't work so use single\n",
    "# np.ravel(df.trueproducttype)\n",
    "# create features\n",
    "features = df.columns[:-1]\n",
    "# this is what it looks going in the model: clf.fit(df[features], df.trueproducttype)"
   ]
  },
  {
   "cell_type": "code",
   "execution_count": 714,
   "metadata": {
    "collapsed": true
   },
   "outputs": [],
   "source": [
    "## Method 3"
   ]
  },
  {
   "cell_type": "code",
   "execution_count": 715,
   "metadata": {
    "collapsed": false
   },
   "outputs": [],
   "source": [
    "# # another method\n",
    "# df.trueproducttype.values\n",
    "# # df['single_column'].values\n",
    "# # df[['suppliertype', 'trueproducttype']].values\n",
    "# # doesn't select specific columns\n",
    "# # df[2:30].values"
   ]
  },
  {
   "cell_type": "code",
   "execution_count": 716,
   "metadata": {
    "collapsed": true
   },
   "outputs": [],
   "source": [
    "## Method 4"
   ]
  },
  {
   "cell_type": "code",
   "execution_count": 717,
   "metadata": {
    "collapsed": false
   },
   "outputs": [],
   "source": [
    "# # another way by creating an array, single array doesn't work\n",
    "# # create target array\n",
    "# target = df.as_matrix(columns=['trueproducttype'])\n",
    "# # create train array\n",
    "# train = df.as_matrix(columns=['suppliertype', 'pditradingpartner', 'alcoholwordcount', 'beerwordcount', 'winewordcount', 'qty'])\n",
    "# # perform\n",
    "# clf.fit(train, target)"
   ]
  },
  {
   "cell_type": "code",
   "execution_count": null,
   "metadata": {
    "collapsed": true
   },
   "outputs": [],
   "source": []
  },
  {
   "cell_type": "code",
   "execution_count": 718,
   "metadata": {
    "collapsed": true
   },
   "outputs": [],
   "source": [
    "## Scikit-learn Data Analysis ##"
   ]
  },
  {
   "cell_type": "code",
   "execution_count": 770,
   "metadata": {
    "collapsed": false
   },
   "outputs": [],
   "source": [
    "from sklearn import preprocessing\n",
    "from sklearn.metrics import accuracy_score, classification_report, roc_auc_score, roc_curve, auc"
   ]
  },
  {
   "cell_type": "code",
   "execution_count": 720,
   "metadata": {
    "collapsed": true
   },
   "outputs": [],
   "source": [
    "## Train/Test"
   ]
  },
  {
   "cell_type": "code",
   "execution_count": 721,
   "metadata": {
    "collapsed": true
   },
   "outputs": [],
   "source": [
    "# choosing a training set randomly\n",
    "df['is_train'] = np.random.uniform(0, 1, len(df)) <= .50"
   ]
  },
  {
   "cell_type": "code",
   "execution_count": 722,
   "metadata": {
    "collapsed": true
   },
   "outputs": [],
   "source": [
    "# defining new train and test datasets\n",
    "train, test = df[df['is_train']==True], df[df['is_train']==False]"
   ]
  },
  {
   "cell_type": "code",
   "execution_count": 723,
   "metadata": {
    "collapsed": true
   },
   "outputs": [],
   "source": [
    "# redefining which columns are features for new df\n",
    "features_train = train.columns[:-2]"
   ]
  },
  {
   "cell_type": "code",
   "execution_count": 724,
   "metadata": {
    "collapsed": true
   },
   "outputs": [],
   "source": [
    "# define the features for the test df\n",
    "features_test = test.columns[:-2]"
   ]
  },
  {
   "cell_type": "code",
   "execution_count": 725,
   "metadata": {
    "collapsed": true
   },
   "outputs": [],
   "source": [
    "## Random Forest"
   ]
  },
  {
   "cell_type": "code",
   "execution_count": 726,
   "metadata": {
    "collapsed": true
   },
   "outputs": [],
   "source": [
    "from sklearn.ensemble import RandomForestClassifier\n",
    "# get information for function\n",
    "# RandomForestClassifier?\n",
    "# define parameters\n",
    "clf = RandomForestClassifier(n_estimators=100, n_jobs=2)"
   ]
  },
  {
   "cell_type": "code",
   "execution_count": 727,
   "metadata": {
    "collapsed": true
   },
   "outputs": [],
   "source": [
    "## Method 1 - predict using fit/score"
   ]
  },
  {
   "cell_type": "code",
   "execution_count": 728,
   "metadata": {
    "collapsed": false
   },
   "outputs": [
    {
     "name": "stdout",
     "output_type": "stream",
     "text": [
      "0.819844746753\n"
     ]
    }
   ],
   "source": [
    "# must fit before score \n",
    "clf.fit(df[features], df.trueproducttype)\n",
    "# score method\n",
    "# an array of predicted values \n",
    "preds = clf.predict(df[features])\n",
    "print clf.score(df[features], df.trueproducttype)"
   ]
  },
  {
   "cell_type": "code",
   "execution_count": 729,
   "metadata": {
    "collapsed": false
   },
   "outputs": [],
   "source": [
    "# pivot tables of values\n",
    "# pd.crosstab(df.trueproducttype, preds, rownames=['actual'], colnames=['preds'])"
   ]
  },
  {
   "cell_type": "code",
   "execution_count": 730,
   "metadata": {
    "collapsed": false
   },
   "outputs": [
    {
     "name": "stdout",
     "output_type": "stream",
     "text": [
      "0.819844746753\n"
     ]
    }
   ],
   "source": [
    "# another view of accuracy\n",
    "print np.sum(df.trueproducttype==preds) / float(len(df))"
   ]
  },
  {
   "cell_type": "code",
   "execution_count": 731,
   "metadata": {
    "collapsed": false
   },
   "outputs": [
    {
     "name": "stdout",
     "output_type": "stream",
     "text": [
      "             precision    recall  f1-score   support\n",
      "\n",
      "          0       0.70      0.27      0.38       411\n",
      "          1       0.83      0.90      0.86     13684\n",
      "          2       0.88      0.27      0.41      1502\n",
      "          3       0.81      0.91      0.85      8833\n",
      "          4       0.84      0.27      0.40      1592\n",
      "\n",
      "avg / total       0.82      0.82      0.80     26022\n",
      "\n"
     ]
    }
   ],
   "source": [
    "# classification report\n",
    "print classification_report(df.trueproducttype, preds)"
   ]
  },
  {
   "cell_type": "code",
   "execution_count": null,
   "metadata": {
    "collapsed": true
   },
   "outputs": [],
   "source": [
    "## Method 2 - using simple fit and score using a np array"
   ]
  },
  {
   "cell_type": "code",
   "execution_count": 609,
   "metadata": {
    "collapsed": false
   },
   "outputs": [],
   "source": [
    "# use numpy array and fit and score function\n",
    "# clf.fit(ndf[0:25000,0:6], ndf[0:25000,6:7])   \n",
    "# print clf.score(ndf[0:25000,6:7], ndf[0:25000,6:7])"
   ]
  },
  {
   "cell_type": "code",
   "execution_count": null,
   "metadata": {
    "collapsed": true
   },
   "outputs": [],
   "source": [
    "## Method 3 - robust using train/test"
   ]
  },
  {
   "cell_type": "code",
   "execution_count": 736,
   "metadata": {
    "collapsed": false
   },
   "outputs": [
    {
     "name": "stdout",
     "output_type": "stream",
     "text": [
      "0.681405540773\n",
      "0.681405540773\n",
      "             precision    recall  f1-score   support\n",
      "\n",
      "          0       0.31      0.09      0.13       200\n",
      "          1       0.73      0.78      0.76      6710\n",
      "          2       0.07      0.03      0.04       710\n",
      "          3       0.68      0.78      0.73      4378\n",
      "          4       0.07      0.03      0.04       780\n",
      "\n",
      "avg / total       0.63      0.68      0.65     12778\n",
      "\n"
     ]
    }
   ],
   "source": [
    "# begin with fit\n",
    "clf.fit(train[features_train], train.trueproducttype)\n",
    "# try out the model on the test columns for how it predicts\n",
    "preds_test = clf.predict(test[features_test])\n",
    "# how well did the model predict comparing to the test true values; same as AUC/pROC\n",
    "print accuracy_score(test.trueproducttype, preds_test)\n",
    "# the score method\n",
    "print clf.score(test[features_test], test.trueproducttype)\n",
    "# classification report\n",
    "print classification_report(test.trueproducttype, preds_test)"
   ]
  },
  {
   "cell_type": "code",
   "execution_count": 666,
   "metadata": {
    "collapsed": false
   },
   "outputs": [
    {
     "name": "stdout",
     "output_type": "stream",
     "text": [
      "0.707977864884\n",
      "             precision    recall  f1-score   support\n",
      "\n",
      "          0       0.01      0.01      0.01       411\n",
      "          1       0.80      0.75      0.77     13684\n",
      "          2       0.21      0.03      0.05      1502\n",
      "          3       0.64      0.92      0.76      8833\n",
      "          4       0.00      0.00      0.00      1592\n",
      "\n",
      "avg / total       0.65      0.71      0.67     26022\n",
      "\n"
     ]
    }
   ],
   "source": [
    "# Gaussian Naive Bayes\n",
    "from sklearn.naive_bayes import GaussianNB\n",
    "gnb = GaussianNB()\n",
    "gnb.fit(df[features], df.trueproducttype)\n",
    "print gnb.score(df[features], df.trueproducttype)\n",
    "preds = gnb.predict(df[features])\n",
    "print classification_report(df.trueproducttype, preds)"
   ]
  },
  {
   "cell_type": "code",
   "execution_count": 737,
   "metadata": {
    "collapsed": false
   },
   "outputs": [
    {
     "name": "stdout",
     "output_type": "stream",
     "text": [
      "0.711065894506\n"
     ]
    }
   ],
   "source": [
    "# train/test output\n",
    "gnb.fit(train[features_train], train.trueproducttype)\n",
    "preds_test = gnb.predict(test[features_test])\n",
    "print accuracy_score(test.trueproducttype, preds_test)"
   ]
  },
  {
   "cell_type": "code",
   "execution_count": 738,
   "metadata": {
    "collapsed": false
   },
   "outputs": [
    {
     "name": "stdout",
     "output_type": "stream",
     "text": [
      "0.741603258781\n",
      "             precision    recall  f1-score   support\n",
      "\n",
      "          0       0.43      0.08      0.14       411\n",
      "          1       0.75      0.87      0.81     13684\n",
      "          2       0.41      0.04      0.08      1502\n",
      "          3       0.75      0.82      0.78      8833\n",
      "          4       0.35      0.05      0.08      1592\n",
      "\n",
      "avg / total       0.70      0.74      0.70     26022\n",
      "\n"
     ]
    }
   ],
   "source": [
    "# k-Nearest Neighbors Classifier\n",
    "from sklearn.neighbors import KNeighborsClassifier\n",
    "knn = KNeighborsClassifier()\n",
    "knn.fit(df[features], df.trueproducttype)\n",
    "print knn.score(df[features], df.trueproducttype)\n",
    "preds = knn.predict(df[features])\n",
    "print classification_report(df.trueproducttype, preds)"
   ]
  },
  {
   "cell_type": "code",
   "execution_count": 739,
   "metadata": {
    "collapsed": false
   },
   "outputs": [
    {
     "name": "stdout",
     "output_type": "stream",
     "text": [
      "0.707857254656\n"
     ]
    }
   ],
   "source": [
    "# train/test output\n",
    "knn.fit(train[features_train], train.trueproducttype)\n",
    "preds_test = knn.predict(test[features_test])\n",
    "print accuracy_score(test.trueproducttype, preds_test)"
   ]
  },
  {
   "cell_type": "code",
   "execution_count": 668,
   "metadata": {
    "collapsed": false
   },
   "outputs": [
    {
     "name": "stdout",
     "output_type": "stream",
     "text": [
      "0.743678425947\n",
      "             precision    recall  f1-score   support\n",
      "\n",
      "          0       1.00      0.01      0.01       411\n",
      "          1       0.76      0.86      0.81     13684\n",
      "          2       1.00      0.00      0.01      1502\n",
      "          3       0.72      0.86      0.78      8833\n",
      "          4       1.00      0.01      0.02      1592\n",
      "\n",
      "avg / total       0.78      0.74      0.69     26022\n",
      "\n"
     ]
    }
   ],
   "source": [
    "# Support Vector Classifier\n",
    "from sklearn.svm import SVC\n",
    "svmc = SVC()\n",
    "svmc.fit(df[features], df.trueproducttype)\n",
    "print svmc.score(df[features], df.trueproducttype)\n",
    "preds = svmc.predict(df[features])\n",
    "print classification_report(df.trueproducttype, preds)"
   ]
  },
  {
   "cell_type": "code",
   "execution_count": 740,
   "metadata": {
    "collapsed": false
   },
   "outputs": [
    {
     "name": "stdout",
     "output_type": "stream",
     "text": [
      "0.727265612772\n"
     ]
    }
   ],
   "source": [
    "# train/test output\n",
    "svmc.fit(train[features_train], train.trueproducttype)\n",
    "preds_test = svmc.predict(test[features_test])\n",
    "print accuracy_score(test.trueproducttype, preds_test)"
   ]
  },
  {
   "cell_type": "code",
   "execution_count": 773,
   "metadata": {
    "collapsed": false
   },
   "outputs": [
    {
     "name": "stdout",
     "output_type": "stream",
     "text": [
      "0.819883175774\n",
      "             precision    recall  f1-score   support\n",
      "\n",
      "          0       0.63      0.32      0.43       411\n",
      "          1       0.82      0.92      0.87     13684\n",
      "          2       0.85      0.29      0.43      1502\n",
      "          3       0.82      0.88      0.85      8833\n",
      "          4       0.94      0.23      0.37      1592\n",
      "\n",
      "avg / total       0.83      0.82      0.80     26022\n",
      "\n"
     ]
    }
   ],
   "source": [
    "# Decision Tree\n",
    "from sklearn.tree import DecisionTreeClassifier\n",
    "dtc = DecisionTreeClassifier()\n",
    "dtc.fit(df[features], df.trueproducttype)\n",
    "print dtc.score(df[features], df.trueproducttype)\n",
    "preds = dtc.predict(df[features])\n",
    "print classification_report(df.trueproducttype, preds)"
   ]
  },
  {
   "cell_type": "code",
   "execution_count": 774,
   "metadata": {
    "collapsed": false
   },
   "outputs": [
    {
     "name": "stdout",
     "output_type": "stream",
     "text": [
      "0.664736265456\n"
     ]
    }
   ],
   "source": [
    "# train/test output\n",
    "dtc.fit(train[features_train], train.trueproducttype)\n",
    "preds_test = dtc.predict(test[features_test])\n",
    "print accuracy_score(test.trueproducttype, preds_test)"
   ]
  },
  {
   "cell_type": "code",
   "execution_count": 777,
   "metadata": {
    "collapsed": false
   },
   "outputs": [],
   "source": [
    "# # ROC Curve - don't think this works\n",
    "# y_true = np.array(test.trueproducttype)\n",
    "# y_score = np.array(preds_test)\n",
    "# fpr, tpr, thresholds = roc_curve(y_true, y_score, pos_label=2)\n",
    "# print auc(fpr, tpr)"
   ]
  },
  {
   "cell_type": "code",
   "execution_count": 671,
   "metadata": {
    "collapsed": false
   },
   "outputs": [
    {
     "name": "stdout",
     "output_type": "stream",
     "text": [
      "0.693336407655\n",
      "             precision    recall  f1-score   support\n",
      "\n",
      "          0       0.00      0.00      0.00       411\n",
      "          1       0.81      0.70      0.75     13684\n",
      "          2       0.00      0.00      0.00      1502\n",
      "          3       0.60      0.96      0.74      8833\n",
      "          4       0.00      0.00      0.00      1592\n",
      "\n",
      "avg / total       0.63      0.69      0.64     26022\n",
      "\n"
     ]
    }
   ],
   "source": [
    "# Linear Support Vector Classifier\n",
    "from sklearn.svm import LinearSVC\n",
    "lsvc = LinearSVC()\n",
    "lsvc.fit(df[features], df.trueproducttype)\n",
    "print lsvc.score(df[features], df.trueproducttype)\n",
    "preds = lsvc.predict(df[features])\n",
    "print classification_report(df.trueproducttype, preds)"
   ]
  },
  {
   "cell_type": "code",
   "execution_count": 742,
   "metadata": {
    "collapsed": false
   },
   "outputs": [
    {
     "name": "stdout",
     "output_type": "stream",
     "text": [
      "0.637580215996\n"
     ]
    }
   ],
   "source": [
    "# train/test output\n",
    "lsvc.fit(train[features_train], train.trueproducttype)\n",
    "preds_test = lsvc.predict(test[features_test])\n",
    "print accuracy_score(test.trueproducttype, preds_test)"
   ]
  },
  {
   "cell_type": "code",
   "execution_count": 669,
   "metadata": {
    "collapsed": false
   },
   "outputs": [
    {
     "name": "stdout",
     "output_type": "stream",
     "text": [
      "0.730112981323\n",
      "             precision    recall  f1-score   support\n",
      "\n",
      "          0       0.00      0.00      0.00       411\n",
      "          1       0.76      0.83      0.79     13684\n",
      "          2       0.00      0.00      0.00      1502\n",
      "          3       0.69      0.86      0.77      8833\n",
      "          4       0.00      0.00      0.00      1592\n",
      "\n",
      "avg / total       0.63      0.73      0.68     26022\n",
      "\n"
     ]
    }
   ],
   "source": [
    "# AdaBoost\n",
    "from sklearn.ensemble import AdaBoostClassifier\n",
    "abc = AdaBoostClassifier()\n",
    "abc.fit(df[features], df.trueproducttype)\n",
    "print abc.score(df[features], df.trueproducttype)\n",
    "preds = abc.predict(df[features])\n",
    "print classification_report(df.trueproducttype, preds)"
   ]
  },
  {
   "cell_type": "code",
   "execution_count": 743,
   "metadata": {
    "collapsed": false
   },
   "outputs": [
    {
     "name": "stdout",
     "output_type": "stream",
     "text": [
      "0.732117702301\n"
     ]
    }
   ],
   "source": [
    "# train/test output\n",
    "abc.fit(train[features_train], train.trueproducttype)\n",
    "preds_test = abc.predict(test[features_test])\n",
    "print accuracy_score(test.trueproducttype, preds_test)"
   ]
  },
  {
   "cell_type": "code",
   "execution_count": 672,
   "metadata": {
    "collapsed": false
   },
   "outputs": [
    {
     "name": "stdout",
     "output_type": "stream",
     "text": [
      "0.415379294443\n",
      "             precision    recall  f1-score   support\n",
      "\n",
      "          0       0.00      0.00      0.00       411\n",
      "          1       0.77      0.14      0.24     13684\n",
      "          2       0.07      0.18      0.10      1502\n",
      "          3       0.43      0.98      0.60      8833\n",
      "          4       0.00      0.00      0.00      1592\n",
      "\n",
      "avg / total       0.56      0.42      0.33     26022\n",
      "\n"
     ]
    }
   ],
   "source": [
    "# Stochastic Gradient Descent Classifier\n",
    "from sklearn.linear_model import SGDClassifier\n",
    "sdgc = SGDClassifier()\n",
    "sdgc.fit(df[features], df.trueproducttype)\n",
    "print sdgc.score(df[features], df.trueproducttype)\n",
    "preds = sdgc.predict(df[features])\n",
    "print classification_report(df.trueproducttype, preds)"
   ]
  },
  {
   "cell_type": "code",
   "execution_count": 744,
   "metadata": {
    "collapsed": false
   },
   "outputs": [
    {
     "name": "stdout",
     "output_type": "stream",
     "text": [
      "0.668884019408\n"
     ]
    }
   ],
   "source": [
    "# train/test output\n",
    "sdgc.fit(train[features_train], train.trueproducttype)\n",
    "preds_test = sdgc.predict(test[features_test])\n",
    "print accuracy_score(test.trueproducttype, preds_test)"
   ]
  },
  {
   "cell_type": "code",
   "execution_count": 673,
   "metadata": {
    "collapsed": false
   },
   "outputs": [
    {
     "name": "stdout",
     "output_type": "stream",
     "text": [
      "0.730881561755\n",
      "             precision    recall  f1-score   support\n",
      "\n",
      "          0       0.00      0.00      0.00       411\n",
      "          1       0.77      0.82      0.79     13684\n",
      "          2       0.00      0.00      0.00      1502\n",
      "          3       0.69      0.88      0.77      8833\n",
      "          4       0.00      0.00      0.00      1592\n",
      "\n",
      "avg / total       0.64      0.73      0.68     26022\n",
      "\n"
     ]
    }
   ],
   "source": [
    "# Logistic Regression\n",
    "from sklearn.linear_model import LogisticRegression\n",
    "lrg = LogisticRegression()\n",
    "lrg.fit(df[features], df.trueproducttype)\n",
    "print lrg.score(df[features], df.trueproducttype)\n",
    "preds = lrg.predict(df[features])\n",
    "print classification_report(df.trueproducttype, preds)"
   ]
  },
  {
   "cell_type": "code",
   "execution_count": 751,
   "metadata": {
    "collapsed": false
   },
   "outputs": [
    {
     "data": {
      "text/plain": [
       "array([1, 3, 2, 1, 1, 1, 2])"
      ]
     },
     "execution_count": 751,
     "metadata": {},
     "output_type": "execute_result"
    }
   ],
   "source": [
    "preds[3:10]"
   ]
  },
  {
   "cell_type": "code",
   "execution_count": 604,
   "metadata": {
    "collapsed": false
   },
   "outputs": [
    {
     "data": {
      "text/plain": [
       "array([[ 0.05365932,  0.17430074,  0.04779234,  0.71588634,  0.00836126],\n",
       "       [ 0.00736163,  0.10709903,  0.02552155,  0.85844351,  0.00157428],\n",
       "       [ 0.13824999,  0.15512916,  0.08371078,  0.60437875,  0.01853132],\n",
       "       ..., \n",
       "       [ 0.07659018,  0.40061261,  0.08135225,  0.32541681,  0.11602815],\n",
       "       [ 0.07659018,  0.40061261,  0.08135225,  0.32541681,  0.11602815],\n",
       "       [ 0.07659018,  0.40061261,  0.08135225,  0.32541681,  0.11602815]])"
      ]
     },
     "execution_count": 604,
     "metadata": {},
     "output_type": "execute_result"
    }
   ],
   "source": [
    "lrg.predict_proba(df[features])\n",
    "# ex. 1st item in preds is 3 when fourth column in lrg is greater than .60"
   ]
  },
  {
   "cell_type": "code",
   "execution_count": 745,
   "metadata": {
    "collapsed": false
   },
   "outputs": [
    {
     "name": "stdout",
     "output_type": "stream",
     "text": [
      "0.731961183284\n"
     ]
    }
   ],
   "source": [
    "# train/test output\n",
    "lrg.fit(train[features_train], train.trueproducttype)\n",
    "preds_test = lrg.predict(test[features_test])\n",
    "print accuracy_score(test.trueproducttype, preds_test)"
   ]
  }
 ],
 "metadata": {
  "kernelspec": {
   "display_name": "Python 2",
   "language": "python",
   "name": "python2"
  },
  "language_info": {
   "codemirror_mode": {
    "name": "ipython",
    "version": 2
   },
   "file_extension": ".py",
   "mimetype": "text/x-python",
   "name": "python",
   "nbconvert_exporter": "python",
   "pygments_lexer": "ipython2",
   "version": "2.7.9"
  }
 },
 "nbformat": 4,
 "nbformat_minor": 0
}
